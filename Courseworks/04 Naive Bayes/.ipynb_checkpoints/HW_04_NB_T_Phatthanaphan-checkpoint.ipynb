{
 "cells": [
  {
   "cell_type": "markdown",
   "id": "c11c4df3",
   "metadata": {},
   "source": [
    "### University : Stevens Institute of Technology\n",
    "### Course : CS 513-A\n",
    "### Project : Homework 4\n",
    "### Purpose : NB\n",
    "### First Name : Thanapoom\n",
    "### Last Name : Phatthanaphan\n",
    "### Id : 20011296\n",
    "### Date : 11 Mar 2023"
   ]
  },
  {
   "cell_type": "code",
   "execution_count": 1,
   "id": "7fcf9293",
   "metadata": {},
   "outputs": [],
   "source": [
    "import numpy as np\n",
    "import pandas as pd\n",
    "from sklearn.naive_bayes import GaussianNB\n",
    "from sklearn.metrics import confusion_matrix\n",
    "from sklearn.model_selection import train_test_split"
   ]
  },
  {
   "cell_type": "code",
   "execution_count": 2,
   "id": "9968ce79",
   "metadata": {},
   "outputs": [
    {
     "name": "stdout",
     "output_type": "stream",
     "text": [
      "      Sample  F1  F2  F3  F4  F5    F6  F7  F8  F9  Class\n",
      "0    1000025   5   1   1   1   2   1.0   3   1   1      2\n",
      "1    1002945   5   4   4   5   7  10.0   3   2   1      2\n",
      "2    1015425   3   1   1   1   2   2.0   3   1   1      2\n",
      "3    1016277   6   8   8   1   3   4.0   3   7   1      2\n",
      "4    1017023   4   1   1   3   2   1.0   3   1   1      2\n",
      "..       ...  ..  ..  ..  ..  ..   ...  ..  ..  ..    ...\n",
      "694   776715   3   1   1   1   3   2.0   1   1   1      2\n",
      "695   841769   2   1   1   1   2   1.0   1   1   1      2\n",
      "696   888820   5  10  10   3   7   3.0   8  10   2      4\n",
      "697   897471   4   8   6   4   3   4.0  10   6   1      4\n",
      "698   897471   4   8   8   5   4   5.0  10   4   1      4\n",
      "\n",
      "[699 rows x 11 columns]\n"
     ]
    }
   ],
   "source": [
    "# Upload data set\n",
    "data = pd.read_csv(\"breast-cancer-wisconsin.csv\", header=0, na_values=\"?\")\n",
    "print(data)"
   ]
  },
  {
   "cell_type": "code",
   "execution_count": 3,
   "id": "e8d6419b",
   "metadata": {},
   "outputs": [
    {
     "name": "stdout",
     "output_type": "stream",
     "text": [
      "             Sample          F1          F2          F3          F4  \\\n",
      "count  6.990000e+02  699.000000  699.000000  699.000000  699.000000   \n",
      "mean   1.071704e+06    4.417740    3.134478    3.207439    2.806867   \n",
      "std    6.170957e+05    2.815741    3.051459    2.971913    2.855379   \n",
      "min    6.163400e+04    1.000000    1.000000    1.000000    1.000000   \n",
      "25%    8.706885e+05    2.000000    1.000000    1.000000    1.000000   \n",
      "50%    1.171710e+06    4.000000    1.000000    1.000000    1.000000   \n",
      "75%    1.238298e+06    6.000000    5.000000    5.000000    4.000000   \n",
      "max    1.345435e+07   10.000000   10.000000   10.000000   10.000000   \n",
      "\n",
      "               F5          F6          F7          F8          F9       Class  \n",
      "count  699.000000  683.000000  699.000000  699.000000  699.000000  699.000000  \n",
      "mean     3.216023    3.544656    3.437768    2.866953    1.589413    2.689557  \n",
      "std      2.214300    3.643857    2.438364    3.053634    1.715078    0.951273  \n",
      "min      1.000000    1.000000    1.000000    1.000000    1.000000    2.000000  \n",
      "25%      2.000000    1.000000    2.000000    1.000000    1.000000    2.000000  \n",
      "50%      2.000000    1.000000    3.000000    1.000000    1.000000    2.000000  \n",
      "75%      4.000000    6.000000    5.000000    4.000000    1.000000    4.000000  \n",
      "max     10.000000   10.000000   10.000000   10.000000   10.000000    4.000000  \n"
     ]
    }
   ],
   "source": [
    "# Summary data, see the overall of input data\n",
    "print(data.describe())"
   ]
  },
  {
   "cell_type": "code",
   "execution_count": 4,
   "id": "d850807c",
   "metadata": {},
   "outputs": [
    {
     "name": "stdout",
     "output_type": "stream",
     "text": [
      "     Sample     F1     F2     F3     F4     F5     F6     F7     F8     F9  \\\n",
      "0     False  False  False  False  False  False  False  False  False  False   \n",
      "1     False  False  False  False  False  False  False  False  False  False   \n",
      "2     False  False  False  False  False  False  False  False  False  False   \n",
      "3     False  False  False  False  False  False  False  False  False  False   \n",
      "4     False  False  False  False  False  False  False  False  False  False   \n",
      "..      ...    ...    ...    ...    ...    ...    ...    ...    ...    ...   \n",
      "694   False  False  False  False  False  False  False  False  False  False   \n",
      "695   False  False  False  False  False  False  False  False  False  False   \n",
      "696   False  False  False  False  False  False  False  False  False  False   \n",
      "697   False  False  False  False  False  False  False  False  False  False   \n",
      "698   False  False  False  False  False  False  False  False  False  False   \n",
      "\n",
      "     Class  \n",
      "0    False  \n",
      "1    False  \n",
      "2    False  \n",
      "3    False  \n",
      "4    False  \n",
      "..     ...  \n",
      "694  False  \n",
      "695  False  \n",
      "696  False  \n",
      "697  False  \n",
      "698  False  \n",
      "\n",
      "[699 rows x 11 columns]\n"
     ]
    }
   ],
   "source": [
    "# From summary, we can see that column 'F6' contains missing values\n",
    "# Identify missing values\n",
    "missing_values = data.isna()\n",
    "print(missing_values)"
   ]
  },
  {
   "cell_type": "code",
   "execution_count": 5,
   "id": "485e6c15",
   "metadata": {},
   "outputs": [],
   "source": [
    "# Remove the rows with missing values\n",
    "data.dropna(inplace=True)"
   ]
  },
  {
   "cell_type": "code",
   "execution_count": 6,
   "id": "5db5e681",
   "metadata": {},
   "outputs": [],
   "source": [
    "# Convert diagnosis class, 2 for \"Benign\" and 4 for \"Malignant\"\n",
    "data['Class'] = data['Class'].replace({2: 'Benign', 4: 'Malignant'})"
   ]
  },
  {
   "cell_type": "markdown",
   "id": "a9824876",
   "metadata": {},
   "source": [
    "## NB Methodology"
   ]
  },
  {
   "cell_type": "code",
   "execution_count": 7,
   "id": "f586598e",
   "metadata": {},
   "outputs": [],
   "source": [
    "# Split data into 2 parts: 70% as training data, and 30% as testing data\n",
    "X = data.iloc[:, 1:-1]\n",
    "y = data.iloc[:, -1]\n",
    "X_train, X_test, y_train, y_test = train_test_split(X, y, test_size=0.3, random_state=42)\n"
   ]
  },
  {
   "cell_type": "code",
   "execution_count": 8,
   "id": "df5da022",
   "metadata": {},
   "outputs": [
    {
     "data": {
      "text/plain": [
       "GaussianNB()"
      ]
     },
     "execution_count": 8,
     "metadata": {},
     "output_type": "execute_result"
    }
   ],
   "source": [
    "# Implement naiveBayes function\n",
    "model_naiveBayes = GaussianNB()\n",
    "model_naiveBayes.fit(X_train, y_train)"
   ]
  },
  {
   "cell_type": "code",
   "execution_count": 9,
   "id": "f9854086",
   "metadata": {},
   "outputs": [],
   "source": [
    "# Predict target class using predict function\n",
    "predict_naiveBayes = model_naiveBayes.predict(X_test)"
   ]
  },
  {
   "cell_type": "code",
   "execution_count": 10,
   "id": "40bf4dda",
   "metadata": {},
   "outputs": [
    {
     "name": "stdout",
     "output_type": "stream",
     "text": [
      "[[123   4]\n",
      " [  3  75]]\n"
     ]
    }
   ],
   "source": [
    "# Create a confusion matrix to compare the prediction to original data\n",
    "confusion_matrix = confusion_matrix(y_test, predict_naiveBayes)\n",
    "print(confusion_matrix)"
   ]
  },
  {
   "cell_type": "code",
   "execution_count": 11,
   "id": "cd61a7ad",
   "metadata": {},
   "outputs": [
    {
     "name": "stdout",
     "output_type": "stream",
     "text": [
      "Accuracy: 96.58536585365853\n"
     ]
    }
   ],
   "source": [
    "# Compute accuracy\n",
    "accuracy = (confusion_matrix[0][0] + confusion_matrix[1][1]) / sum(sum(confusion_matrix))\n",
    "print(\"Accuracy:\", accuracy * 100)"
   ]
  },
  {
   "cell_type": "code",
   "execution_count": 12,
   "id": "079e4432",
   "metadata": {},
   "outputs": [
    {
     "name": "stdout",
     "output_type": "stream",
     "text": [
      "Error rate: 3.414634146341464\n"
     ]
    }
   ],
   "source": [
    "# Compute error rate\n",
    "naiveBayes_error = (confusion_matrix[0][1] + confusion_matrix[1][0]) / sum(sum(confusion_matrix))\n",
    "print(\"Error rate:\", naiveBayes_error * 100)"
   ]
  }
 ],
 "metadata": {
  "kernelspec": {
   "display_name": "Python 3 (ipykernel)",
   "language": "python",
   "name": "python3"
  },
  "language_info": {
   "codemirror_mode": {
    "name": "ipython",
    "version": 3
   },
   "file_extension": ".py",
   "mimetype": "text/x-python",
   "name": "python",
   "nbconvert_exporter": "python",
   "pygments_lexer": "ipython3",
   "version": "3.9.13"
  }
 },
 "nbformat": 4,
 "nbformat_minor": 5
}
