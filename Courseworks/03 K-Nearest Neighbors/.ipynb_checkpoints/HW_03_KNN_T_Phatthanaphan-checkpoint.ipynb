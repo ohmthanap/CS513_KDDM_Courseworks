{
 "cells": [
  {
   "cell_type": "markdown",
   "id": "b00a3532",
   "metadata": {},
   "source": [
    "###  University : Stevens Institute of Technology\n",
    "###  Course     : CS 513-A\n",
    "###  Project    : Homework 3\n",
    "###  Purpose    : KNN\n",
    "###  First Name\t: Thanapoom\n",
    "###  Last Name\t: Phatthanaphan\n",
    "###  Id\t\t\t    : 20011296\n",
    "###  Date       : 11 Mar 2023"
   ]
  },
  {
   "cell_type": "code",
   "execution_count": 1,
   "id": "af86c5c1",
   "metadata": {},
   "outputs": [],
   "source": [
    "import pandas as pd\n",
    "import numpy as np\n",
    "from sklearn.neighbors import KNeighborsClassifier\n",
    "from sklearn.metrics import confusion_matrix, accuracy_score"
   ]
  },
  {
   "cell_type": "code",
   "execution_count": 2,
   "id": "90042d9f",
   "metadata": {},
   "outputs": [
    {
     "name": "stdout",
     "output_type": "stream",
     "text": [
      "      Sample  F1  F2  F3  F4  F5    F6  F7  F8  F9  Class\n",
      "0    1000025   5   1   1   1   2   1.0   3   1   1      2\n",
      "1    1002945   5   4   4   5   7  10.0   3   2   1      2\n",
      "2    1015425   3   1   1   1   2   2.0   3   1   1      2\n",
      "3    1016277   6   8   8   1   3   4.0   3   7   1      2\n",
      "4    1017023   4   1   1   3   2   1.0   3   1   1      2\n",
      "..       ...  ..  ..  ..  ..  ..   ...  ..  ..  ..    ...\n",
      "694   776715   3   1   1   1   3   2.0   1   1   1      2\n",
      "695   841769   2   1   1   1   2   1.0   1   1   1      2\n",
      "696   888820   5  10  10   3   7   3.0   8  10   2      4\n",
      "697   897471   4   8   6   4   3   4.0  10   6   1      4\n",
      "698   897471   4   8   8   5   4   5.0  10   4   1      4\n",
      "\n",
      "[699 rows x 11 columns]\n"
     ]
    }
   ],
   "source": [
    "# Upload data set\n",
    "data = pd.read_csv(\"breast-cancer-wisconsin.csv\", header=0, na_values='?')\n",
    "print(data)"
   ]
  },
  {
   "cell_type": "code",
   "execution_count": 3,
   "id": "184c1914",
   "metadata": {},
   "outputs": [
    {
     "name": "stdout",
     "output_type": "stream",
     "text": [
      "             Sample          F1          F2          F3          F4  \\\n",
      "count  6.990000e+02  699.000000  699.000000  699.000000  699.000000   \n",
      "mean   1.071704e+06    4.417740    3.134478    3.207439    2.806867   \n",
      "std    6.170957e+05    2.815741    3.051459    2.971913    2.855379   \n",
      "min    6.163400e+04    1.000000    1.000000    1.000000    1.000000   \n",
      "25%    8.706885e+05    2.000000    1.000000    1.000000    1.000000   \n",
      "50%    1.171710e+06    4.000000    1.000000    1.000000    1.000000   \n",
      "75%    1.238298e+06    6.000000    5.000000    5.000000    4.000000   \n",
      "max    1.345435e+07   10.000000   10.000000   10.000000   10.000000   \n",
      "\n",
      "               F5          F6          F7          F8          F9       Class  \n",
      "count  699.000000  683.000000  699.000000  699.000000  699.000000  699.000000  \n",
      "mean     3.216023    3.544656    3.437768    2.866953    1.589413    2.689557  \n",
      "std      2.214300    3.643857    2.438364    3.053634    1.715078    0.951273  \n",
      "min      1.000000    1.000000    1.000000    1.000000    1.000000    2.000000  \n",
      "25%      2.000000    1.000000    2.000000    1.000000    1.000000    2.000000  \n",
      "50%      2.000000    1.000000    3.000000    1.000000    1.000000    2.000000  \n",
      "75%      4.000000    6.000000    5.000000    4.000000    1.000000    4.000000  \n",
      "max     10.000000   10.000000   10.000000   10.000000   10.000000    4.000000  \n"
     ]
    }
   ],
   "source": [
    "# Summary data, see the overall of input data\n",
    "print(data.describe())"
   ]
  },
  {
   "cell_type": "code",
   "execution_count": 4,
   "id": "4abf95e4",
   "metadata": {},
   "outputs": [
    {
     "name": "stdout",
     "output_type": "stream",
     "text": [
      "     Sample     F1     F2     F3     F4     F5     F6     F7     F8     F9  \\\n",
      "0     False  False  False  False  False  False  False  False  False  False   \n",
      "1     False  False  False  False  False  False  False  False  False  False   \n",
      "2     False  False  False  False  False  False  False  False  False  False   \n",
      "3     False  False  False  False  False  False  False  False  False  False   \n",
      "4     False  False  False  False  False  False  False  False  False  False   \n",
      "..      ...    ...    ...    ...    ...    ...    ...    ...    ...    ...   \n",
      "694   False  False  False  False  False  False  False  False  False  False   \n",
      "695   False  False  False  False  False  False  False  False  False  False   \n",
      "696   False  False  False  False  False  False  False  False  False  False   \n",
      "697   False  False  False  False  False  False  False  False  False  False   \n",
      "698   False  False  False  False  False  False  False  False  False  False   \n",
      "\n",
      "     Class  \n",
      "0    False  \n",
      "1    False  \n",
      "2    False  \n",
      "3    False  \n",
      "4    False  \n",
      "..     ...  \n",
      "694  False  \n",
      "695  False  \n",
      "696  False  \n",
      "697  False  \n",
      "698  False  \n",
      "\n",
      "[699 rows x 11 columns]\n"
     ]
    }
   ],
   "source": [
    "# From summary, we can see that column 'F6' contains missing values\n",
    "# Identify missing values\n",
    "missing_values = pd.isna(data)\n",
    "print(missing_values)"
   ]
  },
  {
   "cell_type": "code",
   "execution_count": 5,
   "id": "56e00a2f",
   "metadata": {},
   "outputs": [
    {
     "name": "stdout",
     "output_type": "stream",
     "text": [
      "      Sample  F1  F2  F3  F4  F5    F6  F7  F8  F9  Class\n",
      "0    1000025   5   1   1   1   2   1.0   3   1   1      2\n",
      "1    1002945   5   4   4   5   7  10.0   3   2   1      2\n",
      "2    1015425   3   1   1   1   2   2.0   3   1   1      2\n",
      "3    1016277   6   8   8   1   3   4.0   3   7   1      2\n",
      "4    1017023   4   1   1   3   2   1.0   3   1   1      2\n",
      "..       ...  ..  ..  ..  ..  ..   ...  ..  ..  ..    ...\n",
      "694   776715   3   1   1   1   3   2.0   1   1   1      2\n",
      "695   841769   2   1   1   1   2   1.0   1   1   1      2\n",
      "696   888820   5  10  10   3   7   3.0   8  10   2      4\n",
      "697   897471   4   8   6   4   3   4.0  10   6   1      4\n",
      "698   897471   4   8   8   5   4   5.0  10   4   1      4\n",
      "\n",
      "[683 rows x 11 columns]\n"
     ]
    }
   ],
   "source": [
    "# Remove the rows with missing values\n",
    "data = data.dropna()\n",
    "print(data)"
   ]
  },
  {
   "cell_type": "code",
   "execution_count": 6,
   "id": "2c9d82b1",
   "metadata": {},
   "outputs": [],
   "source": [
    "# Convert diagnosis class, 2 for \"Benign\" and 4 for \"Malignant\"\n",
    "data['Class'] = data['Class'].map({2: 'Benign', 4: 'Malignant'})"
   ]
  },
  {
   "cell_type": "markdown",
   "id": "b192f411",
   "metadata": {},
   "source": [
    "## KNN Methodology"
   ]
  },
  {
   "cell_type": "code",
   "execution_count": 7,
   "id": "65600c5a",
   "metadata": {},
   "outputs": [
    {
     "name": "stdout",
     "output_type": "stream",
     "text": [
      "           F1        F2        F3        F4        F5        F6        F7  \\\n",
      "0    0.444444  0.000000  0.000000  0.000000  0.111111  0.000000  0.222222   \n",
      "1    0.444444  0.333333  0.333333  0.444444  0.666667  1.000000  0.222222   \n",
      "2    0.222222  0.000000  0.000000  0.000000  0.111111  0.111111  0.222222   \n",
      "3    0.555556  0.777778  0.777778  0.000000  0.222222  0.333333  0.222222   \n",
      "4    0.333333  0.000000  0.000000  0.222222  0.111111  0.000000  0.222222   \n",
      "..        ...       ...       ...       ...       ...       ...       ...   \n",
      "694  0.222222  0.000000  0.000000  0.000000  0.222222  0.111111  0.000000   \n",
      "695  0.111111  0.000000  0.000000  0.000000  0.111111  0.000000  0.000000   \n",
      "696  0.444444  1.000000  1.000000  0.222222  0.666667  0.222222  0.777778   \n",
      "697  0.333333  0.777778  0.555556  0.333333  0.222222  0.333333  1.000000   \n",
      "698  0.333333  0.777778  0.777778  0.444444  0.333333  0.444444  1.000000   \n",
      "\n",
      "           F8        F9  \n",
      "0    0.000000  0.000000  \n",
      "1    0.111111  0.000000  \n",
      "2    0.000000  0.000000  \n",
      "3    0.666667  0.000000  \n",
      "4    0.000000  0.000000  \n",
      "..        ...       ...  \n",
      "694  0.000000  0.000000  \n",
      "695  0.000000  0.000000  \n",
      "696  1.000000  0.111111  \n",
      "697  0.555556  0.000000  \n",
      "698  0.333333  0.000000  \n",
      "\n",
      "[683 rows x 9 columns]\n"
     ]
    }
   ],
   "source": [
    "# Normalize data\n",
    "normalized_data = (data.iloc[:, 1:10] - data.iloc[:, 1:10].min()) / (data.iloc[:, 1:10].max() - data.iloc[:, 1:10].min())\n",
    "print(normalized_data)"
   ]
  },
  {
   "cell_type": "code",
   "execution_count": 8,
   "id": "e6d3dc1b",
   "metadata": {},
   "outputs": [],
   "source": [
    "# Split data into 2 parts: 70% as training data, and 30% as testing data\n",
    "split_data = np.random.rand(len(normalized_data)) < 0.7\n",
    "train_data = normalized_data[split_data]\n",
    "cl_train_data = data['Class'][split_data]\n",
    "test_data = normalized_data[~split_data]\n",
    "cl_test_data = data['Class'][~split_data]"
   ]
  },
  {
   "cell_type": "code",
   "execution_count": 9,
   "id": "be352ae9",
   "metadata": {},
   "outputs": [
    {
     "name": "stdout",
     "output_type": "stream",
     "text": [
      "Confusion Matrix for k = 3:\n",
      "[[146   5]\n",
      " [  3  82]]\n",
      "Accuracy for k = 3: 96.61%\n",
      "Error rate for k = 3: 3.39%\n",
      "\n",
      "Confusion Matrix for k = 5:\n",
      "[[148   3]\n",
      " [  1  84]]\n",
      "Accuracy for k = 5: 98.31%\n",
      "Error rate for k = 5: 1.69%\n",
      "\n",
      "Confusion Matrix for k = 10:\n",
      "[[148   3]\n",
      " [  4  81]]\n",
      "Accuracy for k = 10: 97.03%\n",
      "Error rate for k = 10: 2.97%\n",
      "\n"
     ]
    },
    {
     "name": "stderr",
     "output_type": "stream",
     "text": [
      "/Users/thanapoomphatthanaphan/opt/anaconda3/lib/python3.9/site-packages/sklearn/neighbors/_classification.py:228: FutureWarning: Unlike other reduction functions (e.g. `skew`, `kurtosis`), the default behavior of `mode` typically preserves the axis it acts along. In SciPy 1.11.0, this behavior will change: the default value of `keepdims` will become False, the `axis` over which the statistic is taken will be eliminated, and the value None will no longer be accepted. Set `keepdims` to True or False to avoid this warning.\n",
      "  mode, _ = stats.mode(_y[neigh_ind, k], axis=1)\n",
      "/Users/thanapoomphatthanaphan/opt/anaconda3/lib/python3.9/site-packages/sklearn/neighbors/_classification.py:228: FutureWarning: Unlike other reduction functions (e.g. `skew`, `kurtosis`), the default behavior of `mode` typically preserves the axis it acts along. In SciPy 1.11.0, this behavior will change: the default value of `keepdims` will become False, the `axis` over which the statistic is taken will be eliminated, and the value None will no longer be accepted. Set `keepdims` to True or False to avoid this warning.\n",
      "  mode, _ = stats.mode(_y[neigh_ind, k], axis=1)\n",
      "/Users/thanapoomphatthanaphan/opt/anaconda3/lib/python3.9/site-packages/sklearn/neighbors/_classification.py:228: FutureWarning: Unlike other reduction functions (e.g. `skew`, `kurtosis`), the default behavior of `mode` typically preserves the axis it acts along. In SciPy 1.11.0, this behavior will change: the default value of `keepdims` will become False, the `axis` over which the statistic is taken will be eliminated, and the value None will no longer be accepted. Set `keepdims` to True or False to avoid this warning.\n",
      "  mode, _ = stats.mode(_y[neigh_ind, k], axis=1)\n"
     ]
    }
   ],
   "source": [
    "# Doing KNN methodology and evaluate the result for k = 3, 5, and 10\n",
    "for k in [3, 5, 10]:\n",
    "    \n",
    "    # KNN function for each k\n",
    "    knn_k = KNeighborsClassifier(n_neighbors=k)\n",
    "    knn_k.fit(train_data, cl_train_data)\n",
    "    knn_k_predictions = knn_k.predict(test_data)\n",
    "    \n",
    "    # Create confusion matrix\n",
    "    confusion_matrix_k = confusion_matrix(cl_test_data, knn_k_predictions)\n",
    "    print(f\"Confusion Matrix for k = {k}:\\n{confusion_matrix_k}\")\n",
    "\n",
    "    # Compute accuracy\n",
    "    accuracy_k = accuracy_score(cl_test_data, knn_k_predictions) * 100\n",
    "    print(f\"Accuracy for k = {k}: {accuracy_k:.2f}%\")\n",
    "\n",
    "    # Compute error rate\n",
    "    error_rate_k = (1 - accuracy_k/100) * 100\n",
    "    print(f\"Error rate for k = {k}: {error_rate_k:.2f}%\\n\")"
   ]
  }
 ],
 "metadata": {
  "kernelspec": {
   "display_name": "Python 3 (ipykernel)",
   "language": "python",
   "name": "python3"
  },
  "language_info": {
   "codemirror_mode": {
    "name": "ipython",
    "version": 3
   },
   "file_extension": ".py",
   "mimetype": "text/x-python",
   "name": "python",
   "nbconvert_exporter": "python",
   "pygments_lexer": "ipython3",
   "version": "3.9.13"
  }
 },
 "nbformat": 4,
 "nbformat_minor": 5
}
